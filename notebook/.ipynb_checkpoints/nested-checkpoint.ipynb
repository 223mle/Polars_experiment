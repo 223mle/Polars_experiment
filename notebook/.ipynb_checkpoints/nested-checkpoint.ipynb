{
 "cells": [
  {
   "cell_type": "code",
   "execution_count": 1,
   "id": "6c5325b3-0db7-4e0d-a3a9-a59fa23787b2",
   "metadata": {},
   "outputs": [],
   "source": [
    "import pandas as pd\n",
    "import polars as pl"
   ]
  },
  {
   "cell_type": "code",
   "execution_count": 4,
   "id": "084be174-e87a-4e76-acea-42bc3a04e5b1",
   "metadata": {},
   "outputs": [],
   "source": [
    "df_pd  = pd.DataFrame(\n",
    "    {\n",
    "        'int_list': [[0, 1], [2, 3]],\n",
    "        'float_list': [[0.0, 1], [2.2, 3]],\n",
    "        'mixed_object': [['a', 0], ['b', 1]]\n",
    "    }\n",
    ")"
   ]
  },
  {
   "cell_type": "code",
   "execution_count": 5,
   "id": "ae9a0627-f1e0-4c65-bf28-870d5845d2ec",
   "metadata": {},
   "outputs": [
    {
     "data": {
      "text/html": [
       "<div>\n",
       "<style scoped>\n",
       "    .dataframe tbody tr th:only-of-type {\n",
       "        vertical-align: middle;\n",
       "    }\n",
       "\n",
       "    .dataframe tbody tr th {\n",
       "        vertical-align: top;\n",
       "    }\n",
       "\n",
       "    .dataframe thead th {\n",
       "        text-align: right;\n",
       "    }\n",
       "</style>\n",
       "<table border=\"1\" class=\"dataframe\">\n",
       "  <thead>\n",
       "    <tr style=\"text-align: right;\">\n",
       "      <th></th>\n",
       "      <th>int_list</th>\n",
       "      <th>float_list</th>\n",
       "      <th>mixed_object</th>\n",
       "    </tr>\n",
       "  </thead>\n",
       "  <tbody>\n",
       "    <tr>\n",
       "      <th>0</th>\n",
       "      <td>[0, 1]</td>\n",
       "      <td>[0.0, 1]</td>\n",
       "      <td>[a, 0]</td>\n",
       "    </tr>\n",
       "    <tr>\n",
       "      <th>1</th>\n",
       "      <td>[2, 3]</td>\n",
       "      <td>[2.2, 3]</td>\n",
       "      <td>[b, 1]</td>\n",
       "    </tr>\n",
       "  </tbody>\n",
       "</table>\n",
       "</div>"
      ],
      "text/plain": [
       "  int_list float_list mixed_object\n",
       "0   [0, 1]   [0.0, 1]       [a, 0]\n",
       "1   [2, 3]   [2.2, 3]       [b, 1]"
      ]
     },
     "execution_count": 5,
     "metadata": {},
     "output_type": "execute_result"
    }
   ],
   "source": [
    "df_pd"
   ]
  },
  {
   "cell_type": "code",
   "execution_count": 29,
   "id": "da345f8a-a6ce-480f-98ce-2b49e587e110",
   "metadata": {},
   "outputs": [],
   "source": [
    "df_pl  = pl.DataFrame(\n",
    "    {\n",
    "        'list': [[0, 1], [2, 3]],\n",
    "        'object_and_num': [['a', 0], ['b', 1]]\n",
    "    }\n",
    ").with_columns(array=pl.col('list').cast(pl.Array(width=2, inner=pl.Int64)))"
   ]
  },
  {
   "cell_type": "code",
   "execution_count": 30,
   "id": "6692b7ac-48fc-40e5-81c6-df504f6a5015",
   "metadata": {},
   "outputs": [
    {
     "data": {
      "text/html": [
       "<div><style>\n",
       ".dataframe > thead > tr,\n",
       ".dataframe > tbody > tr {\n",
       "  text-align: right;\n",
       "  white-space: pre-wrap;\n",
       "}\n",
       "</style>\n",
       "<small>shape: (2, 3)</small><table border=\"1\" class=\"dataframe\"><thead><tr><th>list</th><th>object_and_num</th><th>array</th></tr><tr><td>list[i64]</td><td>object</td><td>array[i64, 2]</td></tr></thead><tbody><tr><td>[0, 1]</td><td>[&#x27;a&#x27;, 0]</td><td>[0, 1]</td></tr><tr><td>[2, 3]</td><td>[&#x27;b&#x27;, 1]</td><td>[2, 3]</td></tr></tbody></table></div>"
      ],
      "text/plain": [
       "shape: (2, 3)\n",
       "┌───────────┬────────────────┬───────────────┐\n",
       "│ list      ┆ object_and_num ┆ array         │\n",
       "│ ---       ┆ ---            ┆ ---           │\n",
       "│ list[i64] ┆ object         ┆ array[i64, 2] │\n",
       "╞═══════════╪════════════════╪═══════════════╡\n",
       "│ [0, 1]    ┆ ['a', 0]       ┆ [0, 1]        │\n",
       "│ [2, 3]    ┆ ['b', 1]       ┆ [2, 3]        │\n",
       "└───────────┴────────────────┴───────────────┘"
      ]
     },
     "execution_count": 30,
     "metadata": {},
     "output_type": "execute_result"
    }
   ],
   "source": [
    "df_pl"
   ]
  },
  {
   "cell_type": "code",
   "execution_count": 31,
   "id": "73610876-461d-42d0-ad80-3ea72d9cf796",
   "metadata": {},
   "outputs": [
    {
     "data": {
      "text/plain": [
       "polars.series.series.Series"
      ]
     },
     "execution_count": 31,
     "metadata": {},
     "output_type": "execute_result"
    }
   ],
   "source": [
    "type(df_pl['list'][0])"
   ]
  },
  {
   "cell_type": "code",
   "execution_count": 32,
   "id": "3e8dda45-98e4-4e90-a46b-098305cb0997",
   "metadata": {},
   "outputs": [
    {
     "data": {
      "text/plain": [
       "list"
      ]
     },
     "execution_count": 32,
     "metadata": {},
     "output_type": "execute_result"
    }
   ],
   "source": [
    "type(df_pl['object_and_num'][0])"
   ]
  },
  {
   "cell_type": "code",
   "execution_count": 33,
   "id": "d796df95-ea91-4d6c-9bc7-8dd5f115fc1b",
   "metadata": {},
   "outputs": [
    {
     "data": {
      "text/plain": [
       "polars.series.series.Series"
      ]
     },
     "execution_count": 33,
     "metadata": {},
     "output_type": "execute_result"
    }
   ],
   "source": [
    "type(df_pl['array'][0])"
   ]
  },
  {
   "cell_type": "code",
   "execution_count": null,
   "id": "5a4178fc-0503-402e-9a5f-9c519cb68ae8",
   "metadata": {},
   "outputs": [],
   "source": []
  }
 ],
 "metadata": {
  "kernelspec": {
   "display_name": "Python 3 (ipykernel)",
   "language": "python",
   "name": "python3"
  },
  "language_info": {
   "codemirror_mode": {
    "name": "ipython",
    "version": 3
   },
   "file_extension": ".py",
   "mimetype": "text/x-python",
   "name": "python",
   "nbconvert_exporter": "python",
   "pygments_lexer": "ipython3",
   "version": "3.9.1"
  }
 },
 "nbformat": 4,
 "nbformat_minor": 5
}
